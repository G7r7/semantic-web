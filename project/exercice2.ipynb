{
 "cells": [
  {
   "cell_type": "code",
   "execution_count": 4,
   "id": "aadb7665-2d78-4dd6-9919-ec530d266a3f",
   "metadata": {},
   "outputs": [
    {
     "data": {
      "application/javascript": [
       "\n",
       "    if (typeof IPython !== \"undefined\") {\n",
       "        IPython.CodeCell.options_default.highlight_modes['application/sparql-query'] = {'reg':[/^%%rdf sparql/]};\n",
       "        IPython.CodeCell.options_default.highlight_modes['text/turtle'] = {'reg':[/^%%rdf turtle/, /^%%rdf shex/]};\n",
       "        IPython.CodeCell.options_default.highlight_modes['application/ld+json'] = {'reg':[/^%%rdf json-ld/]};\n",
       "        IPython.notebook.get_cells().map(function(cell){ if (cell.cell_type == 'code'){ cell.auto_highlight(); } });\n",
       "    }\n",
       "    "
      ]
     },
     "metadata": {},
     "output_type": "display_data"
    }
   ],
   "source": [
    "%reload_ext jupyter-rdfify"
   ]
  },
  {
   "cell_type": "code",
   "execution_count": 19,
   "id": "2a23e27b-5b14-4593-a142-fcde7a13aaa9",
   "metadata": {},
   "outputs": [
    {
     "name": "stdout",
     "output_type": "stream",
     "text": [
      "SPARQL: Error during query:\n",
      "HTTP Error 403: Forbidden\n"
     ]
    }
   ],
   "source": [
    "%%rdf sparql --endpoint https://query.wikidata.org/sparql --display graph\n",
    "\n",
    "# With what other famous people did Barck Obama studied throughout his life ?\n",
    "\n",
    "CONSTRUCT {\n",
    "      wd:Q76 wdt:P69 ?school.\n",
    "      wd:Q76 p:P69 [\n",
    "        ps:P69 ?schoolObama;\n",
    "        pq:P580 ?startDateObama;\n",
    "        pq:P582 ?endDateObama\n",
    "      ].\n",
    "  \n",
    "      #educated at\n",
    "      ?person p:P69 [\n",
    "        ps:P69 ?school;\n",
    "        # start time\n",
    "        pq:P580 ?startDate;\n",
    "        # end time\n",
    "        pq:P582 ?endDate\n",
    "      ].\n",
    "  \n",
    "    ?person rdfs:label ?nom.\n",
    "  \n",
    "    ?school rdfs:label ?schoolName.\n",
    "} WHERE {\n",
    "      wd:Q76 wdt:P69 ?school.\n",
    "      wd:Q76 p:P69 [\n",
    "        ps:P69 ?schoolObama;\n",
    "        pq:P580 ?startDateObama;\n",
    "        pq:P582 ?endDateObama\n",
    "      ].\n",
    "  \n",
    "      #educated at\n",
    "      ?person p:P69 [\n",
    "        ps:P69 ?school;\n",
    "        # start time\n",
    "        pq:P580 ?startDate;\n",
    "        # end time\n",
    "        pq:P582 ?endDate\n",
    "      ].\n",
    "    FILTER(?school=?schoolObama && ((?startDate <= ?endDateObama &&  ?endDate >= ?startDateObama) || (?startDateObama <= ?endDate &&  ?endDateObama >= ?startDate)))\n",
    "  \n",
    "    ?person rdfs:label ?nom.\n",
    "    FILTER(LANG(?nom) = \"en\").\n",
    "  \n",
    "    ?school rdfs:label ?schoolName.\n",
    "    FILTER(LANG(?schoolName) = \"en\").\n",
    "  \n",
    "    FILTER(?person != wd:Q76).\n",
    "} "
   ]
  }
 ],
 "metadata": {
  "kernelspec": {
   "display_name": "Python 3 (ipykernel)",
   "language": "python",
   "name": "python3"
  },
  "language_info": {
   "codemirror_mode": {
    "name": "ipython",
    "version": 3
   },
   "file_extension": ".py",
   "mimetype": "text/x-python",
   "name": "python",
   "nbconvert_exporter": "python",
   "pygments_lexer": "ipython3",
   "version": "3.10.6"
  }
 },
 "nbformat": 4,
 "nbformat_minor": 5
}
