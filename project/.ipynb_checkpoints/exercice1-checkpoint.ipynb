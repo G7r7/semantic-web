{
 "cells": [
  {
   "cell_type": "code",
   "execution_count": 2,
   "id": "e59fb3f9-41c5-4727-af01-ad4bb314509b",
   "metadata": {},
   "outputs": [
    {
     "data": {
      "application/javascript": [
       "\n",
       "    if (typeof IPython !== \"undefined\") {\n",
       "        IPython.CodeCell.options_default.highlight_modes['application/sparql-query'] = {'reg':[/^%%rdf sparql/]};\n",
       "        IPython.CodeCell.options_default.highlight_modes['text/turtle'] = {'reg':[/^%%rdf turtle/, /^%%rdf shex/]};\n",
       "        IPython.CodeCell.options_default.highlight_modes['application/ld+json'] = {'reg':[/^%%rdf json-ld/]};\n",
       "        IPython.notebook.get_cells().map(function(cell){ if (cell.cell_type == 'code'){ cell.auto_highlight(); } });\n",
       "    }\n",
       "    "
      ]
     },
     "metadata": {},
     "output_type": "display_data"
    }
   ],
   "source": [
    "%reload_ext jupyter-rdfify"
   ]
  },
  {
   "cell_type": "code",
   "execution_count": 4,
   "id": "42bb8e4c-195e-4175-9a27-b4f271217261",
   "metadata": {},
   "outputs": [
    {
     "data": {
      "text/html": [
       "<table><tr><th>modelLabel</th></tr><tr><td>Citroën 2CV@fr</td></tr></table>"
      ],
      "text/plain": [
       "<IPython.core.display.HTML object>"
      ]
     },
     "metadata": {},
     "output_type": "display_data"
    }
   ],
   "source": [
    "%%rdf sparql --endpoint https://query.wikidata.org/sparql\n",
    "\n",
    "# Which car is called a “duck” in German ?\n",
    "\n",
    "SELECT ?modelLabel\n",
    "WHERE \n",
    "{\n",
    "    # SERVICE wikibase:label { bd:serviceParam wikibase:language \"en\". }        \n",
    "\n",
    "           # instance of   # automobile model\n",
    "    ?model wdt:P31         wd:Q3231690;\n",
    "        skos:altLabel ?modelAlias;\n",
    "        rdfs:label ?modelLabel;\n",
    "    FILTER(LANG(?modelAlias) = \"de\").\n",
    "    FILTER(LANG(?modelLabel) = \"fr\").\n",
    "    FILTER(STRSTARTS(?duckLabel, ?modelAlias)).\n",
    "            \n",
    "    # Duck\n",
    "    wd:Q3736439 rdfs:label ?duckLabel;\n",
    "        FILTER(LANG(?duckLabel) = \"de\").\n",
    "    \n",
    "}"
   ]
  },
  {
   "cell_type": "code",
   "execution_count": null,
   "id": "663b1a06-7a6d-423c-96a3-f6536a80084c",
   "metadata": {},
   "outputs": [],
   "source": []
  }
 ],
 "metadata": {
  "kernelspec": {
   "display_name": "Python 3 (ipykernel)",
   "language": "python",
   "name": "python3"
  },
  "language_info": {
   "codemirror_mode": {
    "name": "ipython",
    "version": 3
   },
   "file_extension": ".py",
   "mimetype": "text/x-python",
   "name": "python",
   "nbconvert_exporter": "python",
   "pygments_lexer": "ipython3",
   "version": "3.10.6"
  }
 },
 "nbformat": 4,
 "nbformat_minor": 5
}
