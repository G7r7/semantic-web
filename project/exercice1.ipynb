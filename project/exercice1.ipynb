{
 "cells": [
  {
   "cell_type": "code",
   "execution_count": 10,
   "id": "e59fb3f9-41c5-4727-af01-ad4bb314509b",
   "metadata": {},
   "outputs": [
    {
     "data": {
      "application/javascript": [
       "\n",
       "    if (typeof IPython !== \"undefined\") {\n",
       "        IPython.CodeCell.options_default.highlight_modes['application/sparql-query'] = {'reg':[/^%%rdf sparql/]};\n",
       "        IPython.CodeCell.options_default.highlight_modes['text/turtle'] = {'reg':[/^%%rdf turtle/, /^%%rdf shex/]};\n",
       "        IPython.CodeCell.options_default.highlight_modes['application/ld+json'] = {'reg':[/^%%rdf json-ld/]};\n",
       "        IPython.notebook.get_cells().map(function(cell){ if (cell.cell_type == 'code'){ cell.auto_highlight(); } });\n",
       "    }\n",
       "    "
      ]
     },
     "metadata": {},
     "output_type": "display_data"
    }
   ],
   "source": [
    "%reload_ext jupyter-rdfify"
   ]
  },
  {
   "cell_type": "code",
   "execution_count": 16,
   "id": "8e6f5298-e152-4b78-8117-4cd97b37e923",
   "metadata": {},
   "outputs": [
    {
     "data": {
      "text/html": [
       "<table><tr><th>carLabel</th></tr><tr><td>Pontiac Bonneville@en</td></tr><tr><td>back-up car@en</td></tr><tr><td>Audi e-tron@en</td></tr><tr><td>Mirage GR8@en</td></tr><tr><td>Achilles@en</td></tr><tr><td>decrepit car@en</td></tr><tr><td>Cadillac Orleans@en</td></tr><tr><td>Alvis Stalwart@en</td></tr><tr><td>Buick LaCrosse@en</td></tr><tr><td>Ferrari 312 S@en</td></tr><tr><td>Ferrari 326 MI@en</td></tr><tr><td>Ferrari 330 TR/LM@en</td></tr><tr><td>Ferrari 375 Indy@en</td></tr><tr><td>Ferrari 376 S@en</td></tr><tr><td>Ferrari 408 4RM@en</td></tr><tr><td>Ferrari Dino 166 P@en</td></tr><tr><td>Ferrari Dino 196 S@en</td></tr><tr><td>Ferrari Dino 246 S@en</td></tr><tr><td>Ferrari Dino 246 Tasmania@en</td></tr><tr><td>Ferrari Dino 296 S@en</td></tr><tr><td>Fiat 1100 Lombardo Sport Barchetta@en</td></tr><tr><td>Fiat City Taxi@en</td></tr><tr><td>Fiat Nuova 500 Francis Lombardi My Car@en</td></tr><tr><td>Formula Junior derived from Lancia Appia@en</td></tr><tr><td>Formula Le Mans@en</td></tr><tr><td>Great Wall SoCool@en</td></tr><tr><td>Hispano-Suiza H6B Nieuport Tulipwood Torpedo@en</td></tr><tr><td>Hotchkiss 20-24CV@en</td></tr><tr><td>Humber Heavy Utility Car@en</td></tr><tr><td>BMW 1600 GT@en</td></tr><tr><td>Bentley 4¼ Litre@en</td></tr><tr><td>Isotta Fraschini Tipo KM@en</td></tr><tr><td>Alfa Romeo A12/F12@en</td></tr><tr><td>Lancia Aprilia Coloniale@en</td></tr><tr><td>Lancia Aurelia chassis@en</td></tr><tr><td>Lancia Zeta-12/15hp@en</td></tr><tr><td>Audi Coupé@en</td></tr><tr><td>Cadillac Sixty Special@en</td></tr><tr><td>Hippomobile@en</td></tr><tr><td>Rover Scarab@en</td></tr><tr><td>Fiat 2472@en</td></tr><tr><td>Delahaye Type 1@en</td></tr><tr><td>Buick Excelle@en</td></tr><tr><td>Buick GL8@en</td></tr><tr><td>Buick Regal@en</td></tr><tr><td>Ferrari 250 GT California Spyder@en</td></tr><tr><td>Ford Explorer@en</td></tr><tr><td>Laffly V15@en</td></tr><tr><td>Kia Elan@en</td></tr><tr><td>Ferrari 250 Europa@en</td></tr><tr><td>Asüna@en</td></tr><tr><td>Laffly S15@en</td></tr><tr><td>Ford EX@en</td></tr><tr><td>Ford Indigo@en</td></tr><tr><td>Ford Ranch Wagon@en</td></tr><tr><td>Ford Seattle-ite XXI@en</td></tr><tr><td>Formula AE@en</td></tr><tr><td>GJG@en</td></tr><tr><td>Gaselle@en</td></tr><tr><td>Griswold@en</td></tr><tr><td>Gurgel Delta@en</td></tr><tr><td>Gurgel E500@en</td></tr><tr><td>Gurgel Supermini@en</td></tr><tr><td>Henou@en</td></tr><tr><td>Mini John Cooper Works S2000@en</td></tr><tr><td>Maserati 4CM@en</td></tr><tr><td>Maserati 4C 2500@en</td></tr><tr><td>Mathis Type ZYZZ and Type Z@en</td></tr><tr><td>Maybach W1@en</td></tr><tr><td>Mercedes 28/95 PS@en</td></tr><tr><td>Mercedes 28PS@en</td></tr><tr><td>Mercedes 35PS (1905)@en</td></tr><tr><td>Mercedes 37PS@en</td></tr><tr><td>Mercedes 38PS@en</td></tr><tr><td>Mercedes 39PS@en</td></tr><tr><td>Mercedes 55PS@en</td></tr><tr><td>Mercedes 6/25/40 PS@en</td></tr><tr><td>Mercedes 8/11 PS@en</td></tr><tr><td>Mercedes 8PS@en</td></tr><tr><td>Mercedes Gordon-Bennett@en</td></tr><tr><td>OM 665 Superba@en</td></tr><tr><td>Porsche 550 Rometsch Spyder@en</td></tr><tr><td>Renault Type JY and Type MG@en</td></tr><tr><td>Renault Type PI and Type PZ@en</td></tr><tr><td>Siata 208s@en</td></tr><tr><td>Golden beetle@en</td></tr><tr><td>Stanguellini-Guzzi Colibrì@en</td></tr><tr><td>Stanguellini 2800 Sport@en</td></tr><tr><td>Sunbeam Tiger@en</td></tr><tr><td>Talbot-Lago T23@en</td></tr><tr><td>Talbot 110@en</td></tr><tr><td>Talbot-Lago T26@en</td></tr><tr><td>Talbot 12HP, 16HP e 24HP@en</td></tr><tr><td>Talbot 65@en</td></tr><tr><td>Talbot 75, 90 e 105@en</td></tr><tr><td>Talbot DD@en</td></tr><tr><td>Talbot M67@en</td></tr><tr><td>Talbot Sunbeam Lotus@en</td></tr><tr><td>Pursuit Special@en</td></tr><tr><td>California Special Mustang@en</td></tr><tr><td>Clubmans@en</td></tr><tr><td>Couteret@en</td></tr><tr><td>Dimitriadis 505@en</td></tr><tr><td>Electronic Air Suspension@en</td></tr><tr><td>Eunos 500@en</td></tr><tr><td>Venturi Jamais Contente@en</td></tr><tr><td>AZLK series 3-5- (x)@en</td></tr><tr><td>Niva Marsh@en</td></tr><tr><td>Mercedes-Benz N1300@en</td></tr><tr><td>MAZ-5551@en</td></tr><tr><td>AZLK series C- (x)@en</td></tr><tr><td>Frazer@en</td></tr><tr><td>Bertone Pirana@en</td></tr><tr><td>AL@en</td></tr><tr><td>American Chocolate@en</td></tr><tr><td>Apple@en</td></tr><tr><td>Ascot@en</td></tr><tr><td>Ascot@en</td></tr><tr><td>Asquith@en</td></tr><tr><td>BET 3-wheeler@en</td></tr><tr><td>Babs@en</td></tr><tr><td>Geely KingKong@en</td></tr><tr><td>Kharkovchanka@en</td></tr><tr><td>Peugeot Boxer@en</td></tr><tr><td>Ligier Nova@en</td></tr><tr><td>Oldsmobile Model 43@en</td></tr><tr><td>Oldsmobile Series 40@en</td></tr><tr><td>Ferrari 330LMB@en</td></tr><tr><td>Ferrari 212E Mountain@en</td></tr><tr><td>Ferrari 250P@en</td></tr><tr><td>Ferrari 290S@en</td></tr><tr><td>Ferrari 375 Plus@en</td></tr><tr><td>Ferrari Dino 166 F2@en</td></tr><tr><td>Tesla Model S@en</td></tr><tr><td>Peugeot Rifter (2018)@en</td></tr><tr><td>Peugeot Type 147@en</td></tr><tr><td>Peugeot Type 146@en</td></tr><tr><td>Peugeot Type 9@en</td></tr><tr><td>Peugeot Type 17@en</td></tr><tr><td>Peugeot Type 39@en</td></tr><tr><td>Peugeot Type 42@en</td></tr><tr><td>Fiat 804@en</td></tr><tr><td>Fiat 850 Coupé@en</td></tr><tr><td>Fiat Perla@en</td></tr><tr><td>Ford Model 40@en</td></tr><tr><td>Formula Super Vee@en</td></tr><tr><td>Fiat Grand Siena@en</td></tr><tr><td>Gemballa Mirage GT@en</td></tr><tr><td>Innocenti C@en</td></tr><tr><td>Isotta Fraschini Tipo 8@en</td></tr><tr><td>Mahindra Gio@en</td></tr><tr><td>Mercedes-Benz SS@en</td></tr><tr><td>Mercedes-Benz W129@en</td></tr><tr><td>Panhard & Levassor type A@en</td></tr><tr><td>Renault EVE@en</td></tr><tr><td>Renault PR118@en</td></tr><tr><td>Rondeau M379@en</td></tr><tr><td>Buggy Schlesser@en</td></tr><tr><td>Subaru B5 TPH@en</td></tr><tr><td>Subaru Dex@en</td></tr><tr><td>TVR number 2@en</td></tr><tr><td>Alfa Romeo Quadrifoglio@en</td></tr><tr><td>Venturi 600 SLM@en</td></tr><tr><td>Venturi Eclectic@en</td></tr><tr><td>WM P80@en</td></tr><tr><td>Amilcar CS@en</td></tr><tr><td>Minissima@en</td></tr><tr><td>Bandini GT@en</td></tr><tr><td>Bugatti Type 19@en</td></tr><tr><td>Bugatti Type 22 + Type 23@en</td></tr><tr><td>Bugatti Type 57 Aérolithe@en</td></tr><tr><td>Cal looker@en</td></tr><tr><td>Daewoo FSO Truck Plus@en</td></tr><tr><td>Daimler Motorkutsche@en</td></tr><tr><td>Daimler Schroedter-Wagen@en</td></tr><tr><td>De Dion-Bouton Type D, E and G@en</td></tr><tr><td>De Dion-Bouton V-8 passenger cars@en</td></tr><tr><td>De Tomaso Sport 5000@en</td></tr><tr><td>De Tomaso Sport 1000 Fantuzzi Spyder@en</td></tr><tr><td>Delage Type DS@en</td></tr><tr><td>Delage Type AB, AD and AH@en</td></tr><tr><td>Delage Type AI and AK@en</td></tr><tr><td>Delage Type AM@en</td></tr><tr><td>Delage Type B@en</td></tr><tr><td>Delage Type BI and BK@en</td></tr><tr><td>Delage Type C and D@en</td></tr><tr><td>Delage Type DE, 2LS and Serie DI@en</td></tr><tr><td>Microdot@en</td></tr><tr><td>Orlo@en</td></tr><tr><td>performance car@en</td></tr><tr><td>Porsche LMP@en</td></tr><tr><td>Railton Special@en</td></tr><tr><td>Ralph Lucas@en</td></tr><tr><td>Rover Nizam@en</td></tr><tr><td>Saxon@en</td></tr><tr><td>Singer Vogue@en</td></tr><tr><td>Siscart@en</td></tr><tr><td>Stutz 8-Cylinder@en</td></tr><tr><td>Stutz Defender@en</td></tr><tr><td>Stutz Diplomatica@en</td></tr><tr><td>Sylva Leader@en</td></tr><tr><td>Sylva Striker@en</td></tr><tr><td>US Automobile@en</td></tr><tr><td>Urric@en</td></tr><tr><td>Yale@en</td></tr><tr><td>GMC Sonoma@en</td></tr><tr><td>Gurgel BR-Van@en</td></tr><tr><td>Gurgel Carajás@en</td></tr><tr><td>HN R200@en</td></tr><tr><td>Presidential state car@en</td></tr><tr><td>Hebros 1100@en</td></tr><tr><td>Ford F-Series fourteenth generation@en</td></tr><tr><td>Ellenator@en</td></tr><tr><td>Anadol STC-16@en</td></tr><tr><td>J&S Hunter Coupe@en</td></tr><tr><td>Lorraine@en</td></tr><tr><td>Chitty Bang Bang@en</td></tr><tr><td>9C1@en</td></tr><tr><td>Sofia@en</td></tr><tr><td>Ferrari 156/85@en</td></tr><tr><td>Silver Stream@en</td></tr><tr><td>Alvis TA 14@en</td></tr><tr><td>Forti FG03@en</td></tr><tr><td>Alfa Romeo Bella@en</td></tr><tr><td>Fiat 1100 Siata Type Office@en</td></tr><tr><td>Fiat ESV@en</td></tr><tr><td>Alfa Romeo 8C-35@en</td></tr><tr><td>BMW HH@en</td></tr><tr><td>BMW Concept Coupe Mille Miglia@en</td></tr><tr><td>Bugatti Type 16@en</td></tr><tr><td>Chevrolet Sonic@en</td></tr><tr><td>Cisitalia D46@en</td></tr><tr><td>GMC Yukon@en</td></tr><tr><td>Golden Arrow@en</td></tr><tr><td>Maserati 8CTF@en</td></tr><tr><td>Buick Verano@en</td></tr><tr><td>Maserati 6C 34@en</td></tr><tr><td>take-home vehicle@en</td></tr><tr><td>Citroën-Kégresse P17@en</td></tr><tr><td>Porsche Type 12@en</td></tr><tr><td>Renault 11CV@en</td></tr><tr><td>Renault 9CV@en</td></tr><tr><td>Citroën Berlingo II@en</td></tr><tr><td>Berliet@en</td></tr><tr><td>Renault 35 CV@en</td></tr><tr><td>Tatra 92@en</td></tr><tr><td>Audi R8 e-tron@en</td></tr><tr><td>Lancia Flaminia presidenziale@en</td></tr><tr><td>Esperanto@en</td></tr><tr><td>Gv-pv-18@en</td></tr><tr><td>1-dmx-460@en</td></tr><tr><td>Dacia 2000@en</td></tr><tr><td>TVR 280i@en</td></tr><tr><td>Delahaye Type 32@en</td></tr><tr><td>Aston Martin 12/50 Standard@en</td></tr><tr><td>Aston Martin 15/98@en</td></tr><tr><td>Aston Martin International@en</td></tr><tr><td>Bamford & Martin Coat Scuttle@en</td></tr><tr><td>Daihatsu OFC-1 Concept@en</td></tr><tr><td>Fiat Botafogo@en</td></tr><tr><td>Giugiaro Brivido@en</td></tr><tr><td>Giugiaro Parcour@en</td></tr><tr><td>Sbarro Alcador@en</td></tr><tr><td>Sbarro Astro@en</td></tr><tr><td>Sbarro Brescia@en</td></tr><tr><td>Sbarro Ellipsis@en</td></tr><tr><td>Sbarro Essenza@en</td></tr><tr><td>Sbarro Filipinetti II@en</td></tr><tr><td>Sbarro Monster G@en</td></tr><tr><td>Zagato Perana Z-One@en</td></tr><tr><td>Malcolm Jones@en</td></tr><tr><td>Horsey Horseless@en</td></tr><tr><td>Mahindra Bolero@en</td></tr><tr><td>Daihatsu MidgetⅡ@en</td></tr><tr><td>Abarth 2000 Pininfarina Scorpione@en</td></tr><tr><td>Alfa Romeo Disco Volante by Touring@en</td></tr><tr><td>Aster 18/50, 20/55, 21/60@en</td></tr><tr><td>Cisitalia 204@en</td></tr><tr><td>L'Éclair@en</td></tr><tr><td>Lamborghini P147@en</td></tr><tr><td>Volkswagen GTI Roadster Vision Gran Turismo@en</td></tr><tr><td>Sbarro Oxalys@en</td></tr><tr><td>Sbarro Robur@en</td></tr><tr><td>BMW 745h@en</td></tr><tr><td>Hafei Saibao@en</td></tr><tr><td>Delage Type DM@en</td></tr><tr><td>Delage Type DO@en</td></tr><tr><td>Delage Type DR@en</td></tr><tr><td>Delage Type E, F and G@en</td></tr><tr><td>Delage Type GL@en</td></tr><tr><td>Delage Type H, J, L and M@en</td></tr><tr><td>Delage Type R and T@en</td></tr><tr><td>Delage Type U@en</td></tr><tr><td>Delahaye 148@en</td></tr><tr><td>Delahaye 3 1/2 HP@en</td></tr><tr><td>Delahaye 4 1/2-6HP@en</td></tr><tr><td>Delahaye Type 10@en</td></tr><tr><td>Delahaye Type 11@en</td></tr><tr><td>Delahaye Type 126 and 138@en</td></tr><tr><td>Delahaye Type 15B@en</td></tr><tr><td>Delahaye Type 32 and 58@en</td></tr><tr><td>Delahaye Type 37 and 28@en</td></tr><tr><td>Delahaye Type 44@en</td></tr><tr><td>Delahaye Type 87 and 107@en</td></tr><tr><td>Delta Yeti@en</td></tr><tr><td>Dr 3@en</td></tr><tr><td>Ferrari 268 SP@en</td></tr><tr><td>Ferrari 275 S@en</td></tr><tr><td>Ferrari 286 SP@en</td></tr><tr><td>Gurgel Cena@en</td></tr><tr><td>Gurgel G800@en</td></tr><tr><td>Gurgel Itaipu E400@en</td></tr><tr><td>Gurgel SuperCross@en</td></tr><tr><td>Gurgel TA-01@en</td></tr><tr><td>Gurgel X10 Xavante@en</td></tr><tr><td>Gurgel Tocantins@en</td></tr><tr><td>Gurgel XEF@en</td></tr><tr><td>Gurgel X-15@en</td></tr><tr><td>ACM Enduro X4@en</td></tr><tr><td>Massey Ferguson 3070 Autotronic@en</td></tr><tr><td>Horch 17-45 PS@en</td></tr><tr><td>Horch Typ C@en</td></tr><tr><td>Laurin & Klement - Škoda 115@en</td></tr><tr><td>Csepel D352@en</td></tr><tr><td>Moskwicz 420/422@en</td></tr><tr><td>Polonia@en</td></tr><tr><td>Dodge Sprinter@en</td></tr><tr><td>Land Rover Defender 130 Kajman (ACR)@en</td></tr><tr><td>Laurin & Klement K@en</td></tr><tr><td>Laurin & Klement L@en</td></tr><tr><td>Laurin & Klement M@en</td></tr><tr><td>Laurin & Klement O@en</td></tr><tr><td>Laurin & Klement RK@en</td></tr><tr><td>Moskvich-2138@en</td></tr><tr><td>Tatra 165@en</td></tr><tr><td>Tatra 603 NP@en</td></tr><tr><td>Tatra 613-4 Mi Long Electronic@en</td></tr><tr><td>Tatra 809@en</td></tr><tr><td>Triumph TR2/3@en</td></tr><tr><td>Triumph TR4/5@en</td></tr><tr><td>Wood gas generator@en</td></tr><tr><td>Furgon@en</td></tr><tr><td>TAZ 1500@en</td></tr><tr><td>MAZ-1500@en</td></tr><tr><td>Volkswagen Golf Rally G60@en</td></tr><tr><td>Alba AR2@en</td></tr><tr><td>Alba AR6@en</td></tr><tr><td>Bugatti Type 68@en</td></tr><tr><td>Abarth-Osella PA1@en</td></tr><tr><td>Ferrari SP1@en</td></tr><tr><td>Peugeot Hoggar (coupé utility)@en</td></tr><tr><td>Sbarro Chrono@en</td></tr><tr><td>Auto-Union Typ A@en</td></tr><tr><td>Rover serie 200 (1984)@en</td></tr><tr><td>Rover serie 200 (1989)@en</td></tr><tr><td>Wanderer W20@en</td></tr><tr><td>VAZ-2104@en</td></tr><tr><td>Delage Type AB@en</td></tr><tr><td>Delahaye Type 145@en</td></tr><tr><td>Delahaye Type 165@en</td></tr><tr><td>Dino 206 S@en</td></tr><tr><td>Ferrari 250 GT Berlinetta Tour de France@en</td></tr><tr><td>Ferrari 250 GT Coupé Pinin Farina@en</td></tr><tr><td>Ferrari 250 MM@en</td></tr><tr><td>Ferrari 250 S@en</td></tr><tr><td>Fiat 128 Moretti Roadster@en</td></tr><tr><td>Fiat 770@en</td></tr><tr><td>Fiat 801@en</td></tr><tr><td>Peugeot Type 78@en</td></tr><tr><td>Dacia Estafette@en</td></tr><tr><td>Bootmobile@en</td></tr><tr><td>Sbarro Bi-moto Scorpius@en</td></tr><tr><td>Phoenix II@en</td></tr><tr><td>Talbot T150C racing@en</td></tr><tr><td>Ala Kart@en</td></tr><tr><td>Alfa Romeo 8C 2300@en</td></tr><tr><td>Bugatti Vision Gran Turismo@en</td></tr><tr><td>Audi e-tron quattro@en</td></tr><tr><td>Zagato Maserati Mostro@en</td></tr><tr><td>Rover JET1@en</td></tr><tr><td>Bianchi 8 HP@en</td></tr><tr><td>Bilenkin Vintage@en</td></tr><tr><td>Buick Avista@en</td></tr><tr><td>Automóvel Clube do Brasil@en</td></tr><tr><td>Opel OSV 40@en</td></tr><tr><td>Mini Cooper@en</td></tr><tr><td>Carmel (car)@en</td></tr><tr><td>Panthermobile@en</td></tr><tr><td>Night Stalker@en</td></tr><tr><td>Maruti Suzuki Dzire@en</td></tr><tr><td>Bugatti Type 57 SC Atlantic@en</td></tr><tr><td>Gurgel Motofour@en</td></tr><tr><td>Anadol A1@en</td></tr><tr><td>Anadol Böcek@en</td></tr><tr><td>Anadol SV-1600@en</td></tr><tr><td>Avia Initia@en</td></tr><tr><td>Mr. T's custom 1982 GMC minivan@en</td></tr><tr><td>Gurgel X12@en</td></tr><tr><td>Praga 01@en</td></tr><tr><td>DRK@en</td></tr><tr><td>Changhe M70@en</td></tr><tr><td>Yema T80@en</td></tr><tr><td>JAC iEV6E@en</td></tr><tr><td>Wikimobile Citroën C3 Picasso@en</td></tr><tr><td>Helica-propeller car - CnAM 16863@en</td></tr><tr><td>Santos Dumont's hearse@en</td></tr><tr><td>Model N Ford Runabout@en</td></tr><tr><td>De Dion Bouton Vis-a-Vis - CnAM 16788@en</td></tr><tr><td>Aeolus AX7@en</td></tr><tr><td>Forthing Jingyi S50@en</td></tr><tr><td>Geely Yuanjing@en</td></tr><tr><td>Yusheng S330@en</td></tr><tr><td>Siata Daina@en</td></tr><tr><td>Senova X55@en</td></tr><tr><td>Mirthmobile@en</td></tr><tr><td>Jihad mobile@en</td></tr><tr><td>Speed Demon@en</td></tr><tr><td>Buick Excelle GT@en</td></tr><tr><td>Dodge Polara Brazil@en</td></tr><tr><td>Walter Comercial@en</td></tr><tr><td>Tatra 25@en</td></tr><tr><td>1957 Tropicana Las Vegas Bel Air Chevy Sedan@en</td></tr><tr><td>Gutbrod Atlas@en</td></tr><tr><td>Bugatti La Voiture Noire@en</td></tr><tr><td>Fiat Centoventi Concept@en</td></tr><tr><td>Microcar M19@en</td></tr><tr><td>Agromotor Magma@en</td></tr><tr><td>Alfa Romeo 20-30 KS@en</td></tr><tr><td>XO 4133@en</td></tr><tr><td>Geely Emgrand GSe@en</td></tr><tr><td>Chevrolet Turbo Titan III@en</td></tr><tr><td>Audi Urbansphère@en</td></tr><tr><td>Squad Solar@en</td></tr><tr><td>De Dion Bouton & Trepardoux steam tricycle - CnAM 16387@en</td></tr><tr><td>Archduke Franz Ferdinand car@en</td></tr><tr><td>Ford Model T Runabout - CnAM 18944@en</td></tr><tr><td>1898 Hautier in the Musée des Arts et Métiers@en</td></tr><tr><td>Peugeot Type 3 - CnAM 16593@en</td></tr><tr><td>Mahindra Stinger@en</td></tr><tr><td>Dongfeng Fengguang 370@en</td></tr><tr><td>Talbot Lago 4500@en</td></tr><tr><td>CMC Veryca@en</td></tr><tr><td>Hammer@en</td></tr><tr><td>Hispano-Suiza H6B Dubonnet Xenia@en</td></tr><tr><td>Laurent-Perrier Citroën@en</td></tr><tr><td>Disneyland Jitney@en</td></tr><tr><td>Triumph Spitfire 1500@en</td></tr><tr><td>TOGG@en</td></tr><tr><td>Category:La Baleine (concept car)@en</td></tr><tr><td>Buick Velite 6@en</td></tr><tr><td>Wuling Hongguang V@en</td></tr><tr><td>Delage Type CO@en</td></tr><tr><td>Triumph Spitfire MkIV@en</td></tr><tr><td>Fiat Topolino Barchetta@en</td></tr><tr><td>Ridron@en</td></tr><tr><td>Michelotti Shellette@en</td></tr><tr><td>Chevrolet Nova (1984)@en</td></tr><tr><td>Chevrolet Camaro ZL1@en</td></tr><tr><td>1964 OSCA 1600 GT Zagato s/n 011@en</td></tr><tr><td>Category:Napier 40-50@en</td></tr><tr><td>Citroën C6G  - CnAM 16762@en</td></tr><tr><td>Hispano-Suiza Coupé 1935 - CnAM 40207@en</td></tr><tr><td>Panhard & Levassor Wagonette M2E CnAM 16715@en</td></tr><tr><td>Panhard & Levassor M2F Break CnAM 20520@en</td></tr><tr><td>1888 Serpollet steam tricycle - CnAM 16795@en</td></tr><tr><td>Bugatti Chiron Super Sport 300+@en</td></tr><tr><td>Pontiac Six@en</td></tr><tr><td>De Dion-Bouton AW type@en</td></tr><tr><td>BMW 2 Series (G42)@en</td></tr><tr><td>Opel Kadett E Cabrio@en</td></tr><tr><td>Chrysler LeBaron GTC V6@en</td></tr><tr><td>Berling Grand Large@en</td></tr><tr><td>Ferrari Mondial T@en</td></tr><tr><td>Corvette LT1@en</td></tr><tr><td>Polo Flight@en</td></tr><tr><td>Porsche Carrera 2/4@en</td></tr><tr><td>Hongqi QM9@en</td></tr><tr><td>Ford Mondeo (China)@en</td></tr><tr><td>Vaccine car@en</td></tr><tr><td>OScar@en</td></tr><tr><td>Mercedes 280 G@en</td></tr><tr><td>Alfa Romeo Tonale@en</td></tr><tr><td>Triumph Spitfire Mk3@en</td></tr><tr><td>Triumph Spitfire4 Mk2@en</td></tr><tr><td>Triumph Spitfire4@en</td></tr></table>"
      ],
      "text/plain": [
       "<IPython.core.display.HTML object>"
      ]
     },
     "metadata": {},
     "output_type": "display_data"
    }
   ],
   "source": [
    "%%rdf sparql --endpoint https://query.wikidata.org/sparql\n",
    "\n",
    "# List all cars\n",
    "\n",
    "SELECT ?carLabel\n",
    "WHERE \n",
    "{\n",
    "           # instance of   # motor car\n",
    "    ?car wdt:P31         wd:Q1420;\n",
    "        rdfs:label ?carLabel.\n",
    "    FILTER(LANG(?carLabel) = \"en\").\n",
    "    \n",
    "}"
   ]
  },
  {
   "cell_type": "code",
   "execution_count": 9,
   "id": "42bb8e4c-195e-4175-9a27-b4f271217261",
   "metadata": {},
   "outputs": [
    {
     "name": "stdout",
     "output_type": "stream",
     "text": [
      "SPARQL: \n",
      "The server responded with a format different from the requested format.\n",
      "\n",
      "Either the server does not support the requested format or the query resulted in an incompatible type.\n",
      "\n",
      "Requested: 'xml', Response: 'rdf+xml'\n",
      "                        \n"
     ]
    },
    {
     "data": {
      "image/svg+xml": [
       "<?xml version=\"1.0\" encoding=\"UTF-8\" standalone=\"no\"?>\n",
       "<!DOCTYPE svg PUBLIC \"-//W3C//DTD SVG 1.1//EN\"\n",
       " \"http://www.w3.org/Graphics/SVG/1.1/DTD/svg11.dtd\">\n",
       "<!-- Generated by graphviz version 6.0.1 (20220911.2005)\n",
       " -->\n",
       "<!-- Pages: 1 -->\n",
       "<svg width=\"487pt\" height=\"131pt\"\n",
       " viewBox=\"0.00 0.00 486.59 131.00\" xmlns=\"http://www.w3.org/2000/svg\" xmlns:xlink=\"http://www.w3.org/1999/xlink\">\n",
       "<g id=\"graph0\" class=\"graph\" transform=\"scale(1 1) rotate(0) translate(4 127)\">\n",
       "<polygon fill=\"white\" stroke=\"none\" points=\"-4,4 -4,-127 482.59,-127 482.59,4 -4,4\"/>\n",
       "<!-- 0 -->\n",
       "<g id=\"node1\" class=\"node\">\n",
       "<title>0</title>\n",
       "<polygon fill=\"none\" stroke=\"black\" points=\"79,-36 0,-36 0,0 79,0 79,-36\"/>\n",
       "<text text-anchor=\"middle\" x=\"39.5\" y=\"-14.3\" font-family=\"Times,serif\" font-size=\"14.00\">&quot;Ente&quot;@de</text>\n",
       "</g>\n",
       "<!-- 1 -->\n",
       "<g id=\"node2\" class=\"node\">\n",
       "<title>1</title>\n",
       "<polygon fill=\"none\" stroke=\"black\" points=\"216.5,-36 96.5,-36 96.5,0 216.5,0 216.5,-36\"/>\n",
       "<text text-anchor=\"middle\" x=\"156.5\" y=\"-14.3\" font-family=\"Times,serif\" font-size=\"14.00\">&quot;Citroën 2CV&quot;@fr</text>\n",
       "</g>\n",
       "<!-- 2 -->\n",
       "<g id=\"node3\" class=\"node\">\n",
       "<title>2</title>\n",
       "<polygon fill=\"none\" stroke=\"black\" points=\"460.5,-36 374.5,-36 374.5,0 460.5,0 460.5,-36\"/>\n",
       "<text text-anchor=\"middle\" x=\"417.5\" y=\"-14.3\" font-family=\"Times,serif\" font-size=\"14.00\">&quot;Enten&quot;@de</text>\n",
       "</g>\n",
       "<!-- 3 -->\n",
       "<g id=\"node4\" class=\"node\">\n",
       "<title>3</title>\n",
       "<ellipse fill=\"none\" stroke=\"black\" cx=\"417.5\" cy=\"-105\" rx=\"61.19\" ry=\"18\"/>\n",
       "<text text-anchor=\"middle\" x=\"417.5\" y=\"-101.3\" font-family=\"Times,serif\" font-size=\"14.00\">wd:Q3736439</text>\n",
       "</g>\n",
       "<!-- 3&#45;&gt;2 -->\n",
       "<g id=\"edge4\" class=\"edge\">\n",
       "<title>3&#45;&gt;2</title>\n",
       "<path fill=\"none\" stroke=\"black\" d=\"M417.5,-86.8C417.5,-75.16 417.5,-59.55 417.5,-46.24\"/>\n",
       "<polygon fill=\"black\" stroke=\"black\" points=\"421,-46.18 417.5,-36.18 414,-46.18 421,-46.18\"/>\n",
       "<text text-anchor=\"middle\" x=\"443.5\" y=\"-57.8\" font-family=\"Times,serif\" font-size=\"14.00\">rdfs:label</text>\n",
       "</g>\n",
       "<!-- 4 -->\n",
       "<g id=\"node5\" class=\"node\">\n",
       "<title>4</title>\n",
       "<ellipse fill=\"none\" stroke=\"black\" cx=\"156.5\" cy=\"-105\" rx=\"56.59\" ry=\"18\"/>\n",
       "<text text-anchor=\"middle\" x=\"156.5\" y=\"-101.3\" font-family=\"Times,serif\" font-size=\"14.00\">wd:Q326015</text>\n",
       "</g>\n",
       "<!-- 4&#45;&gt;0 -->\n",
       "<g id=\"edge1\" class=\"edge\">\n",
       "<title>4&#45;&gt;0</title>\n",
       "<path fill=\"none\" stroke=\"black\" d=\"M119.26,-91.23C105.95,-85.62 91.32,-78.2 79.5,-69 70.68,-62.14 62.62,-52.96 56.09,-44.34\"/>\n",
       "<polygon fill=\"black\" stroke=\"black\" points=\"58.77,-42.08 50.09,-36.01 53.09,-46.17 58.77,-42.08\"/>\n",
       "<text text-anchor=\"middle\" x=\"116\" y=\"-57.8\" font-family=\"Times,serif\" font-size=\"14.00\">skos:altLabel</text>\n",
       "</g>\n",
       "<!-- 4&#45;&gt;1 -->\n",
       "<g id=\"edge2\" class=\"edge\">\n",
       "<title>4&#45;&gt;1</title>\n",
       "<path fill=\"none\" stroke=\"black\" d=\"M156.5,-86.8C156.5,-75.16 156.5,-59.55 156.5,-46.24\"/>\n",
       "<polygon fill=\"black\" stroke=\"black\" points=\"160,-46.18 156.5,-36.18 153,-46.18 160,-46.18\"/>\n",
       "<text text-anchor=\"middle\" x=\"182.5\" y=\"-57.8\" font-family=\"Times,serif\" font-size=\"14.00\">rdfs:label</text>\n",
       "</g>\n",
       "<!-- 5 -->\n",
       "<g id=\"node6\" class=\"node\">\n",
       "<title>5</title>\n",
       "<ellipse fill=\"none\" stroke=\"black\" cx=\"295.5\" cy=\"-18\" rx=\"61.19\" ry=\"18\"/>\n",
       "<text text-anchor=\"middle\" x=\"295.5\" y=\"-14.3\" font-family=\"Times,serif\" font-size=\"14.00\">wd:Q3231690</text>\n",
       "</g>\n",
       "<!-- 4&#45;&gt;5 -->\n",
       "<g id=\"edge3\" class=\"edge\">\n",
       "<title>4&#45;&gt;5</title>\n",
       "<path fill=\"none\" stroke=\"black\" d=\"M181.35,-88.8C203.61,-75.19 236.45,-55.11 261.21,-39.97\"/>\n",
       "<polygon fill=\"black\" stroke=\"black\" points=\"263.22,-42.84 269.92,-34.64 259.57,-36.87 263.22,-42.84\"/>\n",
       "<text text-anchor=\"middle\" x=\"257.5\" y=\"-57.8\" font-family=\"Times,serif\" font-size=\"14.00\">wdt:P31</text>\n",
       "</g>\n",
       "</g>\n",
       "</svg>\n"
      ],
      "text/plain": [
       "<graphviz.graphs.Digraph at 0x7fcd445c2440>"
      ]
     },
     "metadata": {},
     "output_type": "display_data"
    }
   ],
   "source": [
    "%%rdf sparql --endpoint https://query.wikidata.org/sparql --display graph\n",
    "\n",
    "# Which car is called a “duck” in German ?\n",
    "\n",
    "CONSTRUCT {\n",
    "           # instance of   # automobile model\n",
    "    ?model wdt:P31         wd:Q3231690;\n",
    "        skos:altLabel ?modelAlias;\n",
    "        rdfs:label ?modelLabel.\n",
    "            \n",
    "    # Duck\n",
    "    wd:Q3736439 rdfs:label ?duckLabel.\n",
    "}\n",
    "WHERE \n",
    "{\n",
    "           # instance of   # automobile model\n",
    "    ?model wdt:P31         wd:Q3231690;\n",
    "        skos:altLabel ?modelAlias;\n",
    "        rdfs:label ?modelLabel;\n",
    "    FILTER(LANG(?modelAlias) = \"de\").\n",
    "    FILTER(LANG(?modelLabel) = \"fr\").\n",
    "    FILTER(STRSTARTS(?duckLabel, ?modelAlias)).\n",
    "            \n",
    "    # Duck\n",
    "    wd:Q3736439 rdfs:label ?duckLabel;\n",
    "        FILTER(LANG(?duckLabel) = \"de\").\n",
    "    \n",
    "}"
   ]
  },
  {
   "cell_type": "code",
   "execution_count": null,
   "id": "663b1a06-7a6d-423c-96a3-f6536a80084c",
   "metadata": {},
   "outputs": [],
   "source": []
  }
 ],
 "metadata": {
  "kernelspec": {
   "display_name": "Python 3 (ipykernel)",
   "language": "python",
   "name": "python3"
  },
  "language_info": {
   "codemirror_mode": {
    "name": "ipython",
    "version": 3
   },
   "file_extension": ".py",
   "mimetype": "text/x-python",
   "name": "python",
   "nbconvert_exporter": "python",
   "pygments_lexer": "ipython3",
   "version": "3.10.6"
  }
 },
 "nbformat": 4,
 "nbformat_minor": 5
}
